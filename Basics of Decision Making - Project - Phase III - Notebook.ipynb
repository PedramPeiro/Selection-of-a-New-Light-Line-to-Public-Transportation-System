{
 "cells": [
  {
   "cell_type": "markdown",
   "metadata": {},
   "source": [
    "# Basics of Decision Making Course"
   ]
  },
  {
   "cell_type": "markdown",
   "metadata": {},
   "source": [
    "**- Pedram Peiro Asfia 9825008**\n",
    "\n",
    "**- Mahdi Mohammadi 9825041**\n",
    "\n",
    "**- Mohadese Najafzadeh 9825502**"
   ]
  },
  {
   "cell_type": "markdown",
   "metadata": {},
   "source": [
    "# Libraries"
   ]
  },
  {
   "cell_type": "code",
   "execution_count": 1,
   "metadata": {
    "ExecuteTime": {
     "end_time": "2022-11-08T20:05:02.249089Z",
     "start_time": "2022-11-08T20:05:01.555941Z"
    }
   },
   "outputs": [],
   "source": [
    "import numpy as np\n",
    "import pandas as pd\n",
    "from numpy import linalg\n",
    "import copy\n",
    "from scipy.stats import rankdata"
   ]
  },
  {
   "cell_type": "markdown",
   "metadata": {},
   "source": [
    "# Input"
   ]
  },
  {
   "cell_type": "markdown",
   "metadata": {},
   "source": [
    "These rankings will not reach the consensus level."
   ]
  },
  {
   "cell_type": "code",
   "execution_count": 2,
   "metadata": {
    "ExecuteTime": {
     "end_time": "2022-11-08T20:05:02.265043Z",
     "start_time": "2022-11-08T20:05:02.252078Z"
    }
   },
   "outputs": [],
   "source": [
    "r1 = (2,3,4,5,1)\n",
    "r2 = (3,5,4,1,2)\n",
    "r3 = (2,3,4,5,1)\n",
    "r4 = (2,3,5,4,1)\n",
    "r5 = (1,3,5,2,4)\n",
    "r6 = (2,3,4,5,1)\n",
    "r7 = (3,4,2,5,1)\n",
    "r8 = (4,3,5,1,2)\n",
    "r9 = (1,3,4,5,2)\n",
    "r10 = (2,4,5,3,1)\n",
    "r11 = (4,2,3,5,1)\n",
    "r12 = (2,3,4,5,1)\n",
    "r13 = (3,2,4,5,1)\n",
    "r14 = (1,5,3,4,2)\n",
    "r15 = (5,1,3,4,2)\n",
    "r16 = (2,5,4,3,1)\n",
    "r17 = (4,3,5,2,1)\n",
    "r18 = (3,1,2,5,4)\n",
    "r19 = (1,5,3,2,4)\n",
    "r20 = (5,1,2,3,4)\n",
    "\n",
    "# number of alternatives\n",
    "num_alternatives = 5\n",
    "\n",
    "# number of experts\n",
    "m = 20\n",
    "\n",
    "# number of clusters\n",
    "num_clusters = 3\n",
    "\n",
    "# threshold of acceptance\n",
    "lambd = 0.75"
   ]
  },
  {
   "cell_type": "markdown",
   "metadata": {},
   "source": [
    "These rankings will reach the consensus level."
   ]
  },
  {
   "cell_type": "code",
   "execution_count": 3,
   "metadata": {
    "ExecuteTime": {
     "end_time": "2022-11-08T20:05:02.280072Z",
     "start_time": "2022-11-08T20:05:02.268036Z"
    }
   },
   "outputs": [],
   "source": [
    "# r1 = (3,2,4,5,1)\n",
    "# r2 = (3,4,5,1,2)\n",
    "# r3 = (3,2,4,5,1)\n",
    "# r4 = (3,2,5,4,1)\n",
    "# r5 = (1,3,5,2,4)\n",
    "# r6 = (3,2,4,5,1)\n",
    "# r7 = (2,3,4,5,1)\n",
    "# r8 = (3,4,5,2,1)\n",
    "# r9 = (2,3,4,5,1)\n",
    "# r10 = (2,3,5,4,1)\n",
    "# r11 = (3,2,4,5,1)\n",
    "# r12 = (3,2,4,5,1)\n",
    "# r13 = (3,2,4,5,1)\n",
    "# r14 = (2,3,5,4,1)\n",
    "# r15 = (4,1,3,5,2)\n",
    "# r16 = (3,2,4,5,1)\n",
    "# r17 = (4,2,3,5,1)\n",
    "# r18 = (3,2,1,5,4)\n",
    "# r19 = (2,4,5,3,1)\n",
    "# r20 = (4,1,3,5,2)\n",
    "\n",
    "# # number of alternatives\n",
    "# num_alternatives = 5\n",
    "\n",
    "# # number of experts\n",
    "# m = 20\n",
    "\n",
    "# # number of clusters\n",
    "# num_clusters = 3\n",
    "\n",
    "# # threshold of acceptance\n",
    "# lambd = 0.75"
   ]
  },
  {
   "cell_type": "code",
   "execution_count": 4,
   "metadata": {
    "ExecuteTime": {
     "end_time": "2022-11-08T20:05:02.295972Z",
     "start_time": "2022-11-08T20:05:02.281998Z"
    }
   },
   "outputs": [
    {
     "name": "stdout",
     "output_type": "stream",
     "text": [
      "r1: [2 3 4 5 1]\n",
      "r2: [3 5 4 1 2]\n",
      "r3: [2 3 4 5 1]\n",
      "r4: [2 3 5 4 1]\n",
      "r5: [1 3 5 2 4]\n",
      "r6: [2 3 4 5 1]\n",
      "r7: [3 4 2 5 1]\n",
      "r8: [4 3 5 1 2]\n",
      "r9: [1 3 4 5 2]\n",
      "r10: [2 4 5 3 1]\n",
      "r11: [4 2 3 5 1]\n",
      "r12: [2 3 4 5 1]\n",
      "r13: [3 2 4 5 1]\n",
      "r14: [1 5 3 4 2]\n",
      "r15: [5 1 3 4 2]\n",
      "r16: [2 5 4 3 1]\n",
      "r17: [4 3 5 2 1]\n",
      "r18: [3 1 2 5 4]\n",
      "r19: [1 5 3 2 4]\n",
      "r20: [5 1 2 3 4]\n"
     ]
    }
   ],
   "source": [
    "rankings = {'r'+str(i): np.array(eval(f'r{i}')) for i in range(1,21)}\n",
    "for x in list(rankings.keys()):\n",
    "    print(f'{x}: {rankings[x]}')"
   ]
  },
  {
   "cell_type": "markdown",
   "metadata": {},
   "source": [
    "# Function"
   ]
  },
  {
   "cell_type": "markdown",
   "metadata": {},
   "source": [
    "First cluster centroid"
   ]
  },
  {
   "cell_type": "code",
   "execution_count": 5,
   "metadata": {
    "ExecuteTime": {
     "end_time": "2022-11-08T20:05:02.310920Z",
     "start_time": "2022-11-08T20:05:02.296958Z"
    }
   },
   "outputs": [],
   "source": [
    "def first_initializer(rankings):\n",
    "    '''\n",
    "    Desc:\n",
    "        calculate the distance of each score given by experts to others'\n",
    "        \n",
    "    input:\n",
    "        o rankings: dictionary, rankings given by the experts\n",
    "    \n",
    "    output: \n",
    "        o tuple, name of the expert and its score\n",
    "    \n",
    "    '''\n",
    "    num = len(list(rankings.values())[0])\n",
    "    av_dist = dict()\n",
    "    for x in list(rankings.keys()):\n",
    "        score_x = rankings[x]\n",
    "        dist = np.mean([linalg.norm(score_x - rankings[y] , 2) for y in \n",
    "                        list(rankings.keys()) if y!=x])\n",
    "        av_dist[x] = dist\n",
    "    \n",
    "    # ordering based on values\n",
    "    av_dist = dict( sorted(av_dist.items(), key=lambda item: item[1], reverse=False) )\n",
    "    key = list(av_dist.keys())[0]\n",
    "    val = rankings[key]\n",
    "    \n",
    "    return (key , val)"
   ]
  },
  {
   "cell_type": "markdown",
   "metadata": {},
   "source": [
    "Other clustering centroids"
   ]
  },
  {
   "cell_type": "code",
   "execution_count": 6,
   "metadata": {
    "ExecuteTime": {
     "end_time": "2022-11-08T20:05:02.326914Z",
     "start_time": "2022-11-08T20:05:02.312924Z"
    }
   },
   "outputs": [],
   "source": [
    "def others_initializers(rankings , centroids):\n",
    "    '''\n",
    "    Desc: \n",
    "        calculate the average distance of other points to the previously selected centroids \n",
    "        in order to select a new centroid\n",
    "        \n",
    "    input:\n",
    "        o rankings: dictionary, rankings given by the experts\n",
    "        o centroids: list of previously selected centroids\n",
    "        \n",
    "    output:\n",
    "        o tuple, name of the expert and its score\n",
    "    '''\n",
    "    \n",
    "    ranks = copy.deepcopy(rankings)\n",
    "    for cent in centroids: \n",
    "        del ranks[cent[0]]\n",
    "    \n",
    "    av_dist = dict()\n",
    "    for x in list(ranks.keys()):\n",
    "        score_x = ranks[x]\n",
    "        dist = np.mean([linalg.norm(score_x - cent[1] , 2) for cent in centroids])\n",
    "        av_dist[x] = dist\n",
    "        \n",
    "    # ordering based on values\n",
    "    av_dist = dict( sorted(av_dist.items(), key=lambda item: item[1] , reverse=True) )\n",
    "    key = list(av_dist.keys())[0]\n",
    "    val = rankings[key]\n",
    "    \n",
    "    return (key,val)"
   ]
  },
  {
   "cell_type": "markdown",
   "metadata": {},
   "source": [
    "Improved min-max Initialization of clustering centroids"
   ]
  },
  {
   "cell_type": "code",
   "execution_count": 7,
   "metadata": {
    "ExecuteTime": {
     "end_time": "2022-11-08T20:05:02.341849Z",
     "start_time": "2022-11-08T20:05:02.328873Z"
    }
   },
   "outputs": [],
   "source": [
    "def improved_min_max_initialization(rankings , k):\n",
    "    '''\n",
    "    Desc:\n",
    "        random initialization of cluster's centroids with improved max-min method proposed in the article\n",
    "    \n",
    "    input:\n",
    "        o rankings: dictionary, rankings gievn by the experts\n",
    "        o k: int, number of clusters\n",
    "        \n",
    "    output:\n",
    "        o k initialization points\n",
    "    \n",
    "    '''\n",
    "    \n",
    "    centroids = []\n",
    "    \n",
    "    first_centroid = first_initializer(rankings)\n",
    "    centroids.append(first_centroid)\n",
    "    \n",
    "    for i in range(k-1):\n",
    "        others = others_initializers(rankings , centroids)\n",
    "        centroids.append(others)\n",
    "    \n",
    "    L = len(centroids)\n",
    "    centroids = {'C'+str(i): centroids[i-1] for i in range(1,L+1)}\n",
    "    return centroids"
   ]
  },
  {
   "cell_type": "markdown",
   "metadata": {},
   "source": [
    "Euclidean distance between 2 points (based on the article)"
   ]
  },
  {
   "cell_type": "code",
   "execution_count": 8,
   "metadata": {
    "ExecuteTime": {
     "end_time": "2022-11-08T20:05:02.357795Z",
     "start_time": "2022-11-08T20:05:02.344830Z"
    }
   },
   "outputs": [],
   "source": [
    "def euclidean_distance(point1 , point2):\n",
    "    '''\n",
    "    Desc:\n",
    "         euclidean distance calculator between 2 points based on article\n",
    "    \n",
    "    input:\n",
    "        o point1: np.array\n",
    "        o point2: np.array\n",
    "        \n",
    "    output:\n",
    "        o distance between 2 points\n",
    "    '''\n",
    "    n = len(point1)\n",
    "    d = np.sum((point1-point2)**2)\n",
    "    \n",
    "    denom = 2*np.sum([(n-i)**2 for i in range(1 , n , 2)])\n",
    "    \n",
    "    dist = np.sqrt(d/denom)\n",
    "    return dist"
   ]
  },
  {
   "cell_type": "markdown",
   "metadata": {},
   "source": [
    "Assigning cluster labels to each expert's ranking "
   ]
  },
  {
   "cell_type": "code",
   "execution_count": 9,
   "metadata": {
    "ExecuteTime": {
     "end_time": "2022-11-08T20:05:02.372757Z",
     "start_time": "2022-11-08T20:05:02.361784Z"
    }
   },
   "outputs": [],
   "source": [
    "def assigning_to_nearest_clusters(rankings , centroids):\n",
    "    '''\n",
    "    Desc:\n",
    "         assigning rankings of experts to each cluster's centroid\n",
    "    \n",
    "    input:\n",
    "        o rankings: dictionary, rankings gievn by the experts\n",
    "        o centroids: list of tuples, (name , value)\n",
    "        \n",
    "    output:\n",
    "        o labels of each expert ranking\n",
    "    '''\n",
    "    labels = []\n",
    "    for rank in rankings.values():\n",
    "        dist = []\n",
    "        for cent in centroids.values():\n",
    "            dist.append(euclidean_distance(rank , cent[1]))\n",
    "        labels.append('C'+str(np.argmin(dist)+1))\n",
    "    return labels"
   ]
  },
  {
   "cell_type": "markdown",
   "metadata": {},
   "source": [
    "# Testing"
   ]
  },
  {
   "cell_type": "markdown",
   "metadata": {},
   "source": [
    "Calculate the preference vector of the rankings inside a cluster"
   ]
  },
  {
   "cell_type": "code",
   "execution_count": 10,
   "metadata": {
    "ExecuteTime": {
     "end_time": "2022-11-08T20:05:02.388713Z",
     "start_time": "2022-11-08T20:05:02.374751Z"
    }
   },
   "outputs": [],
   "source": [
    "def preference_vector_cluster(rankings , num_alternatives):\n",
    "    '''\n",
    "    Desc:\n",
    "         calculate the preference vector of a number of rankings\n",
    "    \n",
    "    input:\n",
    "        o rankings: np.array, rankings gievn by the experts\n",
    "        o num_alternatives: int, numeber of alternatives\n",
    "        \n",
    "    output:\n",
    "        o preference vector of a set of rankings\n",
    "    '''\n",
    "    \n",
    "    denom = np.sum(np.arange(num_alternatives))\n",
    "    \n",
    "    w = (num_alternatives-rankings)/denom\n",
    "    w_C = np.mean(w , axis = 0)\n",
    "\n",
    "    return w_C"
   ]
  },
  {
   "cell_type": "markdown",
   "metadata": {},
   "source": [
    "Identification rule for clusters (Phase I)"
   ]
  },
  {
   "cell_type": "code",
   "execution_count": 11,
   "metadata": {
    "ExecuteTime": {
     "end_time": "2022-11-08T20:05:02.403674Z",
     "start_time": "2022-11-08T20:05:02.389710Z"
    }
   },
   "outputs": [],
   "source": [
    "def identification_rule_clusters(SOCI, lambd):\n",
    "    '''\n",
    "    Desc:\n",
    "         It is used to identify the cluster Cl that does not reach the predefined threshold γ\n",
    "    \n",
    "    input:\n",
    "        o SOCI: dict, cluster's names with their subgroup ordinal consensus index\n",
    "        o lambd: float, threshold of acceptance\n",
    "        \n",
    "    output:\n",
    "        o identification_cluster: np.array, working as a mask to identify the clusters that SOCI<lambda\n",
    "    '''\n",
    "    identification_cluster = np.array(list(SOCI.values()))<lambd\n",
    "    \n",
    "    return identification_cluster"
   ]
  },
  {
   "cell_type": "markdown",
   "metadata": {},
   "source": [
    "Identification rule for alternatives (Phase II)"
   ]
  },
  {
   "cell_type": "code",
   "execution_count": 12,
   "metadata": {
    "ExecuteTime": {
     "end_time": "2022-11-08T20:05:02.418633Z",
     "start_time": "2022-11-08T20:05:02.406666Z"
    }
   },
   "outputs": [],
   "source": [
    "def identification_rule_alternatives(chosen_clusters , C_G):\n",
    "    '''\n",
    "    Desc:\n",
    "         It is used to identify the alternatives that should be modified by Cl\n",
    "    \n",
    "    input:\n",
    "        o chosen_clusters: dict, cluster's names with their ordinal prefernces \n",
    "        \n",
    "    output:\n",
    "        o AL: alternatives that should be modified by Cl\n",
    "    '''\n",
    "    AL = dict()\n",
    "\n",
    "    for x in list(chosen_clusters.keys()):    \n",
    "        diff = np.abs(chosen_clusters[x] - C_G)\n",
    "        alters = np.argwhere(diff == np.amax(diff))\n",
    "        AL[x] = np.array(alters.squeeze().reshape(-1,)+1)\n",
    "    return AL"
   ]
  },
  {
   "cell_type": "markdown",
   "metadata": {},
   "source": [
    "Identification rule for pairs of alternatives"
   ]
  },
  {
   "cell_type": "code",
   "execution_count": 13,
   "metadata": {
    "ExecuteTime": {
     "end_time": "2022-11-08T20:05:02.434592Z",
     "start_time": "2022-11-08T20:05:02.420627Z"
    }
   },
   "outputs": [],
   "source": [
    "def Identification_rule_pairs_of_alternatives(num_alternatives , AL ,chosen_clusters , C_G ):\n",
    "    '''\n",
    "    Desc:\n",
    "          this rule identifies pairwise alternatives (xi, xj) whose mutual preference \n",
    "          relationships farthest with the global group’s\n",
    "    \n",
    "    input:\n",
    "        o num_alternatives: int, number of alternatives\n",
    "        o AL: dict, alternatives that should be modified by Cl\n",
    "        o cluster_names: list, name of all of the clusters\n",
    "        o C_G: ordinal preferences of all the experts\n",
    "        \n",
    "    output:\n",
    "        o alternatives_pairs: dict, pair of alternatives that should be modified\n",
    "        o direction_rule: dict, (r^(Cl)_i − r^(Cl)_j) − (r^G_i − r^G_j)\n",
    "    '''\n",
    "        \n",
    "    alternatives_pairs=dict()\n",
    "    direction_rule=dict()\n",
    "\n",
    "    for c in list(AL.keys()):\n",
    "        place_holder = 0\n",
    "        for i in (AL[c]-1):\n",
    "            for j in range(num_alternatives):\n",
    "                diff = np.abs(chosen_clusters[c][i]-chosen_clusters[c][j] - (C_G[i]-C_G[j]))\n",
    "                if diff>place_holder:\n",
    "                    alternatives_pairs[c] = (i+1,j+1)\n",
    "                    place_holder=diff\n",
    "        else:\n",
    "            (i,j) = alternatives_pairs[c]\n",
    "            temp = chosen_clusters[c][i-1]-chosen_clusters[c][j-1] - (C_G[i-1]-C_G[j-1])\n",
    "            direction_rule[c] = temp\n",
    "    return {'alternatives pairs':alternatives_pairs,\n",
    "           'direction rule':direction_rule}"
   ]
  },
  {
   "cell_type": "markdown",
   "metadata": {},
   "source": [
    "# Process"
   ]
  },
  {
   "cell_type": "code",
   "execution_count": 14,
   "metadata": {
    "ExecuteTime": {
     "end_time": "2022-11-08T20:05:02.496424Z",
     "start_time": "2022-11-08T20:05:02.436586Z"
    },
    "code_folding": []
   },
   "outputs": [],
   "source": [
    "def LSGDM_decision_making(rankings ,num_alternatives , m , num_clusters , lambd):\n",
    "    centroids = improved_min_max_initialization(rankings , num_clusters)\n",
    "\n",
    "    print(f'Centroids of the clusters are as follows:')\n",
    "    for x in list(centroids.keys()):\n",
    "        print(f'Cluster {x}: {centroids[x]}')\n",
    "\n",
    "\n",
    "    rankings_clusters = np.array(assigning_to_nearest_clusters(rankings ,centroids))\n",
    "    print('\\nThe cluster assinged to each expert\\'s ranking:')\n",
    "    for i in range(m):\n",
    "        print(f'r{i+1} is in cluster {rankings_clusters[i]}')\n",
    "\n",
    "\n",
    "    C_l_preference = dict()\n",
    "    size = dict()\n",
    "    for i in range(num_clusters):\n",
    "        mask = rankings_clusters=='C'+str(i+1)\n",
    "        x = preference_vector_cluster(np.array(list(rankings.values()))[mask] ,num_alternatives )\n",
    "        C_l_preference['C'+str(i+1)] = x\n",
    "        size['C'+str(i+1)] = np.sum(mask)/m\n",
    "\n",
    "    print('\\nPreference vector for clusters and their size are:')\n",
    "    for x in list(C_l_preference.keys()):\n",
    "        print(f'Cluster {x}\\'s prefernce vector: {C_l_preference[x]}')\n",
    "        print(f'Cluster {x}\\'s size: {size[x]*m}\\n')\n",
    "\n",
    "    C_l = dict()\n",
    "    print('Ordinal preferences of subgroups:')\n",
    "    for x in list(C_l_preference.keys()):\n",
    "        C_l[x] = np.abs(rankdata(C_l_preference[x] , method='ordinal') - (num_alternatives+1))\n",
    "        print(f'Ordinal preference of subgroup {x}: {C_l[x]}')\n",
    "\n",
    "    C_G_preference = preference_vector_cluster(np.array(list(rankings.values())) , num_alternatives)\n",
    "    C_G = np.abs(rankdata(C_G_preference, method = 'ordinal') - (num_alternatives+1))\n",
    "    print(f'\\nPreference vector of the group {C_G_preference}')\n",
    "    print(f'Ordinal preference of group {C_G}\\n')\n",
    "\n",
    "\n",
    "    SOCI = dict()\n",
    "    GOCI=0\n",
    "    for x in C_l.keys():\n",
    "        SOCI[x] = (1-euclidean_distance(C_l[x] , C_G))\n",
    "        print(f'SOCI for {x} is {SOCI[x]}')\n",
    "        GOCI+=size[x]*SOCI[x]\n",
    "    else: print('GOCI is' , GOCI,'\\n\\n')\n",
    "    \n",
    "    if GOCI>lambd:\n",
    "        t = {'x'+str(i+1): C_G[i] for i in range(num_alternatives)}\n",
    "        t = dict( sorted(t.items(), key=lambda item: item[1] , reverse=False) )\n",
    "        t = list(t.keys())\n",
    "        print('\\033[1m\\033[92mFinal ranking of alternatives:','>'.join(t)+'\\033[0m')\n",
    "    else:\n",
    "        print('\\n\\033[1mIdentification Rules:\\033[0m')\n",
    "        print('\\033[93mPhase I\\033[0m')\n",
    "        identification_cluster = identification_rule_clusters(SOCI, lambd)\n",
    "        cluster_names = np.array(['C'+str(i+1) for i in range(num_clusters)])\n",
    "        print('Clusters that should make modifications are:' , cluster_names[identification_cluster],'\\n')\n",
    "\n",
    "        chosen_clusters = {x: C_l[x] for x in cluster_names[identification_cluster]}\n",
    "        \n",
    "        AL = identification_rule_alternatives(chosen_clusters , C_G)\n",
    "        print('\\033[93mPhase II\\033[0m')\n",
    "        for x in AL.keys():\n",
    "            print(f'The alternatives that should be modified in cluster {x}: {AL[x]}')\n",
    "        else: print('\\n')\n",
    "\n",
    "        print('\\033[93mPhase III\\033[0m')    \n",
    "        res = Identification_rule_pairs_of_alternatives(num_alternatives , AL ,chosen_clusters , C_G )\n",
    "        alternatives_pairs = res['alternatives pairs']\n",
    "        direction_rule = res['direction rule']\n",
    "        C_l_revised=dict()\n",
    "        i=0\n",
    "        for c in list(direction_rule.keys()):\n",
    "\n",
    "            if i>0: print('\\n')\n",
    "            i+=1\n",
    "\n",
    "            if direction_rule[c]<0:\n",
    "                print(f'''DMs in subgroup {c} should increase the assessment associated with pair of alternatives (x{alternatives_pairs[c][0]},x{alternatives_pairs[c][1]})''')\n",
    "\n",
    "                C_l_revised[c] = copy.deepcopy(C_l[c])\n",
    "\n",
    "                C_l_revised[c][alternatives_pairs[c][0]-1] = C_l[c][alternatives_pairs[c][1]-1]\n",
    "                C_l_revised[c][alternatives_pairs[c][1]-1] = C_l[c][alternatives_pairs[c][0]-1]\n",
    "\n",
    "                print(f'Previous ordinal preferences of subgroup {c}: {C_l[c]}')\n",
    "                print(f'Suggested ordinal preferences of subgroup {c}: {C_l_revised[c]}')\n",
    "            else:\n",
    "                print(f'''DMs in subgroup {c} should decrease the assessment associated with pair of alternatives (x{alternatives_pairs[c][0]},x{alternatives_pairs[c][1]})''')\n",
    "\n",
    "                C_l_revised[c] = copy.deepcopy(C_l[c])\n",
    "                \n",
    "                C_l_revised[c][alternatives_pairs[c][0]-1] = C_l[c][alternatives_pairs[c][1]-1]\n",
    "                C_l_revised[c][alternatives_pairs[c][1]-1] = C_l[c][alternatives_pairs[c][0]-1]\n",
    "\n",
    "\n",
    "                print(f'Previous ordinal preferences of subgroup {c}: {C_l[c]}')\n",
    "                print(f'Suggested ordinal preferences of subgroup {c}: {C_l_revised[c]}')\n",
    "        else:\n",
    "            print('\\n\\033[1m\\033[31mAfter adjusting the rankings, run this function another time\\033[0m')"
   ]
  },
  {
   "cell_type": "markdown",
   "metadata": {},
   "source": [
    "# Output"
   ]
  },
  {
   "cell_type": "code",
   "execution_count": 15,
   "metadata": {
    "ExecuteTime": {
     "end_time": "2022-11-08T20:05:02.512383Z",
     "start_time": "2022-11-08T20:05:02.497422Z"
    },
    "scrolled": false
   },
   "outputs": [
    {
     "name": "stdout",
     "output_type": "stream",
     "text": [
      "Centroids of the clusters are as follows:\n",
      "Cluster C1: ('r1', array([2, 3, 4, 5, 1]))\n",
      "Cluster C2: ('r20', array([5, 1, 2, 3, 4]))\n",
      "Cluster C3: ('r19', array([1, 5, 3, 2, 4]))\n",
      "\n",
      "The cluster assinged to each expert's ranking:\n",
      "r1 is in cluster C1\n",
      "r2 is in cluster C3\n",
      "r3 is in cluster C1\n",
      "r4 is in cluster C1\n",
      "r5 is in cluster C3\n",
      "r6 is in cluster C1\n",
      "r7 is in cluster C1\n",
      "r8 is in cluster C1\n",
      "r9 is in cluster C1\n",
      "r10 is in cluster C1\n",
      "r11 is in cluster C1\n",
      "r12 is in cluster C1\n",
      "r13 is in cluster C1\n",
      "r14 is in cluster C1\n",
      "r15 is in cluster C2\n",
      "r16 is in cluster C1\n",
      "r17 is in cluster C1\n",
      "r18 is in cluster C2\n",
      "r19 is in cluster C3\n",
      "r20 is in cluster C2\n",
      "\n",
      "Preference vector for clusters and their size are:\n",
      "Cluster C1's prefernce vector: [0.25714286 0.17142857 0.1        0.09285714 0.37857143]\n",
      "Cluster C1's size: 14.0\n",
      "\n",
      "Cluster C2's prefernce vector: [0.06666667 0.4        0.26666667 0.1        0.16666667]\n",
      "Cluster C2's size: 3.0\n",
      "\n",
      "Cluster C3's prefernce vector: [0.33333333 0.06666667 0.1        0.33333333 0.16666667]\n",
      "Cluster C3's size: 3.0\n",
      "\n",
      "Ordinal preferences of subgroups:\n",
      "Ordinal preference of subgroup C1: [2 3 4 5 1]\n",
      "Ordinal preference of subgroup C2: [5 1 2 4 3]\n",
      "Ordinal preference of subgroup C3: [2 5 4 1 3]\n",
      "\n",
      "Preference vector of the group [0.24  0.19  0.125 0.13  0.315]\n",
      "Ordinal preference of group [2 3 5 4 1]\n",
      "\n",
      "SOCI for C1 is 0.7763932022500211\n",
      "SOCI for C2 is 0.19377422517014498\n",
      "SOCI for C3 is 0.3291796067500631\n",
      "GOCI is 0.6219183163630458 \n",
      "\n",
      "\n",
      "\n",
      "\u001b[1mIdentification Rules:\u001b[0m\n",
      "\u001b[93mPhase I\u001b[0m\n",
      "Clusters that should make modifications are: ['C2' 'C3'] \n",
      "\n",
      "\u001b[93mPhase II\u001b[0m\n",
      "The alternatives that should be modified in cluster C2: [1 3]\n",
      "The alternatives that should be modified in cluster C3: [4]\n",
      "\n",
      "\n",
      "\u001b[93mPhase III\u001b[0m\n",
      "DMs in subgroup C2 should decrease the assessment associated with pair of alternatives (x1,x3)\n",
      "Previous ordinal preferences of subgroup C2: [5 1 2 4 3]\n",
      "Suggested ordinal preferences of subgroup C2: [2 1 5 4 3]\n",
      "\n",
      "\n",
      "DMs in subgroup C3 should increase the assessment associated with pair of alternatives (x4,x2)\n",
      "Previous ordinal preferences of subgroup C3: [2 5 4 1 3]\n",
      "Suggested ordinal preferences of subgroup C3: [2 1 4 5 3]\n",
      "\n",
      "\u001b[1m\u001b[31mAfter adjusting the rankings, run this function another time\u001b[0m\n"
     ]
    }
   ],
   "source": [
    "LSGDM_decision_making(rankings ,num_alternatives , m , num_clusters , lambd)"
   ]
  }
 ],
 "metadata": {
  "kernelspec": {
   "display_name": "Python 3 (ipykernel)",
   "language": "python",
   "name": "python3"
  },
  "language_info": {
   "codemirror_mode": {
    "name": "ipython",
    "version": 3
   },
   "file_extension": ".py",
   "mimetype": "text/x-python",
   "name": "python",
   "nbconvert_exporter": "python",
   "pygments_lexer": "ipython3",
   "version": "3.10.6"
  },
  "toc": {
   "base_numbering": 1,
   "nav_menu": {},
   "number_sections": false,
   "sideBar": true,
   "skip_h1_title": false,
   "title_cell": "Table of Contents",
   "title_sidebar": "Contents",
   "toc_cell": false,
   "toc_position": {},
   "toc_section_display": true,
   "toc_window_display": false
  },
  "varInspector": {
   "cols": {
    "lenName": 16,
    "lenType": 16,
    "lenVar": 40
   },
   "kernels_config": {
    "python": {
     "delete_cmd_postfix": "",
     "delete_cmd_prefix": "del ",
     "library": "var_list.py",
     "varRefreshCmd": "print(var_dic_list())"
    },
    "r": {
     "delete_cmd_postfix": ") ",
     "delete_cmd_prefix": "rm(",
     "library": "var_list.r",
     "varRefreshCmd": "cat(var_dic_list()) "
    }
   },
   "types_to_exclude": [
    "module",
    "function",
    "builtin_function_or_method",
    "instance",
    "_Feature"
   ],
   "window_display": false
  }
 },
 "nbformat": 4,
 "nbformat_minor": 4
}
